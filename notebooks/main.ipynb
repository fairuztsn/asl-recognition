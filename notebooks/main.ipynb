{
 "cells": [
  {
   "cell_type": "code",
   "execution_count": 1,
   "metadata": {},
   "outputs": [],
   "source": [
    "%%capture\n",
    "import pandas as pd\n",
    "import os\n",
    "import warnings\n",
    "warnings.filterwarnings('ignore')"
   ]
  },
  {
   "cell_type": "code",
   "execution_count": 2,
   "metadata": {},
   "outputs": [],
   "source": [
    "train_data = pd.read_csv(os.path.join('..', 'data', 'sign_mnist_train', 'sign_mnist_train.csv'))\n",
    "test_data = pd.read_csv(os.path.join('..', 'data', 'sign_mnist_test', 'sign_mnist_test.csv'))"
   ]
  },
  {
   "cell_type": "code",
   "execution_count": 3,
   "metadata": {},
   "outputs": [
    {
     "data": {
      "text/html": [
       "<div>\n",
       "<style scoped>\n",
       "    .dataframe tbody tr th:only-of-type {\n",
       "        vertical-align: middle;\n",
       "    }\n",
       "\n",
       "    .dataframe tbody tr th {\n",
       "        vertical-align: top;\n",
       "    }\n",
       "\n",
       "    .dataframe thead th {\n",
       "        text-align: right;\n",
       "    }\n",
       "</style>\n",
       "<table border=\"1\" class=\"dataframe\">\n",
       "  <thead>\n",
       "    <tr style=\"text-align: right;\">\n",
       "      <th></th>\n",
       "      <th>label</th>\n",
       "      <th>pixel1</th>\n",
       "      <th>pixel2</th>\n",
       "      <th>pixel3</th>\n",
       "      <th>pixel4</th>\n",
       "      <th>pixel5</th>\n",
       "      <th>pixel6</th>\n",
       "      <th>pixel7</th>\n",
       "      <th>pixel8</th>\n",
       "      <th>pixel9</th>\n",
       "      <th>...</th>\n",
       "      <th>pixel775</th>\n",
       "      <th>pixel776</th>\n",
       "      <th>pixel777</th>\n",
       "      <th>pixel778</th>\n",
       "      <th>pixel779</th>\n",
       "      <th>pixel780</th>\n",
       "      <th>pixel781</th>\n",
       "      <th>pixel782</th>\n",
       "      <th>pixel783</th>\n",
       "      <th>pixel784</th>\n",
       "    </tr>\n",
       "  </thead>\n",
       "  <tbody>\n",
       "    <tr>\n",
       "      <th>0</th>\n",
       "      <td>3</td>\n",
       "      <td>107</td>\n",
       "      <td>118</td>\n",
       "      <td>127</td>\n",
       "      <td>134</td>\n",
       "      <td>139</td>\n",
       "      <td>143</td>\n",
       "      <td>146</td>\n",
       "      <td>150</td>\n",
       "      <td>153</td>\n",
       "      <td>...</td>\n",
       "      <td>207</td>\n",
       "      <td>207</td>\n",
       "      <td>207</td>\n",
       "      <td>207</td>\n",
       "      <td>206</td>\n",
       "      <td>206</td>\n",
       "      <td>206</td>\n",
       "      <td>204</td>\n",
       "      <td>203</td>\n",
       "      <td>202</td>\n",
       "    </tr>\n",
       "    <tr>\n",
       "      <th>1</th>\n",
       "      <td>6</td>\n",
       "      <td>155</td>\n",
       "      <td>157</td>\n",
       "      <td>156</td>\n",
       "      <td>156</td>\n",
       "      <td>156</td>\n",
       "      <td>157</td>\n",
       "      <td>156</td>\n",
       "      <td>158</td>\n",
       "      <td>158</td>\n",
       "      <td>...</td>\n",
       "      <td>69</td>\n",
       "      <td>149</td>\n",
       "      <td>128</td>\n",
       "      <td>87</td>\n",
       "      <td>94</td>\n",
       "      <td>163</td>\n",
       "      <td>175</td>\n",
       "      <td>103</td>\n",
       "      <td>135</td>\n",
       "      <td>149</td>\n",
       "    </tr>\n",
       "    <tr>\n",
       "      <th>2</th>\n",
       "      <td>2</td>\n",
       "      <td>187</td>\n",
       "      <td>188</td>\n",
       "      <td>188</td>\n",
       "      <td>187</td>\n",
       "      <td>187</td>\n",
       "      <td>186</td>\n",
       "      <td>187</td>\n",
       "      <td>188</td>\n",
       "      <td>187</td>\n",
       "      <td>...</td>\n",
       "      <td>202</td>\n",
       "      <td>201</td>\n",
       "      <td>200</td>\n",
       "      <td>199</td>\n",
       "      <td>198</td>\n",
       "      <td>199</td>\n",
       "      <td>198</td>\n",
       "      <td>195</td>\n",
       "      <td>194</td>\n",
       "      <td>195</td>\n",
       "    </tr>\n",
       "    <tr>\n",
       "      <th>3</th>\n",
       "      <td>2</td>\n",
       "      <td>211</td>\n",
       "      <td>211</td>\n",
       "      <td>212</td>\n",
       "      <td>212</td>\n",
       "      <td>211</td>\n",
       "      <td>210</td>\n",
       "      <td>211</td>\n",
       "      <td>210</td>\n",
       "      <td>210</td>\n",
       "      <td>...</td>\n",
       "      <td>235</td>\n",
       "      <td>234</td>\n",
       "      <td>233</td>\n",
       "      <td>231</td>\n",
       "      <td>230</td>\n",
       "      <td>226</td>\n",
       "      <td>225</td>\n",
       "      <td>222</td>\n",
       "      <td>229</td>\n",
       "      <td>163</td>\n",
       "    </tr>\n",
       "    <tr>\n",
       "      <th>4</th>\n",
       "      <td>13</td>\n",
       "      <td>164</td>\n",
       "      <td>167</td>\n",
       "      <td>170</td>\n",
       "      <td>172</td>\n",
       "      <td>176</td>\n",
       "      <td>179</td>\n",
       "      <td>180</td>\n",
       "      <td>184</td>\n",
       "      <td>185</td>\n",
       "      <td>...</td>\n",
       "      <td>92</td>\n",
       "      <td>105</td>\n",
       "      <td>105</td>\n",
       "      <td>108</td>\n",
       "      <td>133</td>\n",
       "      <td>163</td>\n",
       "      <td>157</td>\n",
       "      <td>163</td>\n",
       "      <td>164</td>\n",
       "      <td>179</td>\n",
       "    </tr>\n",
       "  </tbody>\n",
       "</table>\n",
       "<p>5 rows × 785 columns</p>\n",
       "</div>"
      ],
      "text/plain": [
       "   label  pixel1  pixel2  pixel3  pixel4  pixel5  pixel6  pixel7  pixel8  \\\n",
       "0      3     107     118     127     134     139     143     146     150   \n",
       "1      6     155     157     156     156     156     157     156     158   \n",
       "2      2     187     188     188     187     187     186     187     188   \n",
       "3      2     211     211     212     212     211     210     211     210   \n",
       "4     13     164     167     170     172     176     179     180     184   \n",
       "\n",
       "   pixel9  ...  pixel775  pixel776  pixel777  pixel778  pixel779  pixel780  \\\n",
       "0     153  ...       207       207       207       207       206       206   \n",
       "1     158  ...        69       149       128        87        94       163   \n",
       "2     187  ...       202       201       200       199       198       199   \n",
       "3     210  ...       235       234       233       231       230       226   \n",
       "4     185  ...        92       105       105       108       133       163   \n",
       "\n",
       "   pixel781  pixel782  pixel783  pixel784  \n",
       "0       206       204       203       202  \n",
       "1       175       103       135       149  \n",
       "2       198       195       194       195  \n",
       "3       225       222       229       163  \n",
       "4       157       163       164       179  \n",
       "\n",
       "[5 rows x 785 columns]"
      ]
     },
     "execution_count": 3,
     "metadata": {},
     "output_type": "execute_result"
    }
   ],
   "source": [
    "train_data.head()"
   ]
  },
  {
   "cell_type": "code",
   "execution_count": 4,
   "metadata": {},
   "outputs": [],
   "source": [
    "import matplotlib.pyplot as plt\n",
    "import numpy as np"
   ]
  },
  {
   "cell_type": "code",
   "execution_count": 5,
   "metadata": {},
   "outputs": [
    {
     "data": {
      "image/png": "[encoded data removed]",
      "text/plain": [
       "<Figure size 640x480 with 1 Axes>"
      ]
     },
     "metadata": {},
     "output_type": "display_data"
    }
   ],
   "source": [
    "row = train_data.iloc[np.random.randint(0, len(train_data))]\n",
    "\n",
    "image_size = int(np.sqrt(len(row)))\n",
    "image = row[1:].values.reshape((image_size, image_size))\n",
    "label = row[0]\n",
    "\n",
    "plt.title(label=f\"Sign for label {label}\")\n",
    "plt.imshow(image, cmap='gray')\n",
    "plt.show()"
   ]
  },
  {
   "cell_type": "code",
   "execution_count": 3,
   "metadata": {},
   "outputs": [
    {
     "data": {
      "text/plain": [
       "False"
      ]
     },
     "execution_count": 3,
     "metadata": {},
     "output_type": "execute_result"
    }
   ],
   "source": [
    "alphabet_map = {index: alphabet for index, alphabet in enumerate('abcdefghijklmnopqrsttuvwxyz')}\n",
    "class_names = [alphabet_map[i] for i in sorted(train_data.label.unique())]\n",
    "\n",
    "'j' in class_names and 'z' in class_names"
   ]
  },
  {
   "cell_type": "code",
   "execution_count": 5,
   "metadata": {},
   "outputs": [],
   "source": [
    "# Save dict\n",
    "import json\n",
    "\n",
    "with open(os.path.join('..', 'data', 'labels.json'), 'w') as f:\n",
    "    json.dump(alphabet_map, f, indent=4)"
   ]
  },
  {
   "cell_type": "code",
   "execution_count": 7,
   "metadata": {},
   "outputs": [
    {
     "data": {
      "image/png": "[encoded data removed]",
      "text/plain": [
       "<Figure size 900x900 with 9 Axes>"
      ]
     },
     "metadata": {},
     "output_type": "display_data"
    }
   ],
   "source": [
    "np.random.seed(42)\n",
    "\n",
    "figure = plt.figure(figsize=(9, 9))\n",
    "rows, cols = 3, 3\n",
    "\n",
    "for i in range(1, rows * cols + 1):\n",
    "    row = train_data.iloc[np.random.randint(0, len(train_data))]\n",
    "    image_size = int(np.sqrt(len(row) - 1)) # -1 to exclude the label column\n",
    "    image = row[1:].values.reshape((image_size, image_size))\n",
    "    label = row[0]\n",
    "\n",
    "    ax = figure.add_subplot(rows, cols, i)\n",
    "    ax.set_title(class_names[label])\n",
    "    ax.imshow(image, cmap='gray')\n",
    "\n",
    "plt.tight_layout()\n",
    "plt.show()"
   ]
  },
  {
   "cell_type": "code",
   "execution_count": 8,
   "metadata": {},
   "outputs": [],
   "source": [
    "def skip_j(label):\n",
    "    if label >= 9:\n",
    "        label -= 1\n",
    "    return label\n",
    "\n",
    "train_data['label'] = train_data['label'].apply(skip_j)\n",
    "test_data['label'] = test_data['label'].apply(skip_j)"
   ]
  },
  {
   "cell_type": "code",
   "execution_count": 9,
   "metadata": {},
   "outputs": [],
   "source": [
    "### Change scale from 0-255 to 0-1\n",
    "train_data.iloc[:, 1:] /= 255\n",
    "test_data.iloc[:, 1:] /= 255"
   ]
  },
  {
   "cell_type": "code",
   "execution_count": 10,
   "metadata": {},
   "outputs": [],
   "source": [
    "import torch\n",
    "\n",
    "## Transforming train data\n",
    "images_tensor = torch.tensor(train_data.iloc[:, 1:].to_numpy(), dtype=torch.float32)\n",
    "labels_tensor = torch.tensor(train_data.iloc[:, 0].to_numpy(), dtype=torch.long)\n",
    "\n",
    "images_tensor = [images_tensor[i].reshape(1, 28, 28) for i in range(len(images_tensor))]\n",
    "\n",
    "train_data_transformed = [(images_tensor[i], labels_tensor[i]) for i in range(len(train_data))]\n",
    "\n",
    "## Transforming test data\n",
    "images_tensor = torch.tensor(test_data.iloc[:, 1:].to_numpy(), dtype=torch.float32)\n",
    "labels_tensor = torch.tensor(test_data.iloc[:, 0].to_numpy(), dtype=torch.long)\n",
    "\n",
    "images_tensor = [images_tensor[i].reshape(1, 28, 28) for i in range(len(images_tensor))]\n",
    "\n",
    "test_data_transformed = [(images_tensor[i], labels_tensor[i]) for i in range(len(test_data))]"
   ]
  },
  {
   "cell_type": "code",
   "execution_count": 11,
   "metadata": {},
   "outputs": [
    {
     "data": {
      "text/plain": [
       "(tensor([[[0.4196, 0.4627, 0.4980, 0.5255, 0.5451, 0.5608, 0.5725, 0.5882,\n",
       "           0.6000, 0.6118, 0.6196, 0.6275, 0.6392, 0.6471, 0.6235, 0.6510,\n",
       "           0.6588, 0.6667, 0.6667, 0.6706, 0.6706, 0.6706, 0.6745, 0.6706,\n",
       "           0.6706, 0.6667, 0.6667, 0.6627],\n",
       "          [0.4353, 0.4745, 0.5059, 0.5294, 0.5529, 0.5647, 0.5804, 0.5922,\n",
       "           0.6039, 0.6157, 0.6275, 0.6392, 0.6431, 0.6667, 0.4667, 0.5961,\n",
       "           0.6706, 0.6706, 0.6667, 0.6706, 0.6745, 0.6745, 0.6745, 0.6745,\n",
       "           0.6745, 0.6706, 0.6706, 0.6667],\n",
       "          [0.4431, 0.4824, 0.5137, 0.5373, 0.5569, 0.5686, 0.5882, 0.5961,\n",
       "           0.6078, 0.6196, 0.6314, 0.6392, 0.6431, 0.6745, 0.4118, 0.5569,\n",
       "           0.6667, 0.6706, 0.6706, 0.6706, 0.6745, 0.6745, 0.6784, 0.6784,\n",
       "           0.6745, 0.6706, 0.6706, 0.6706],\n",
       "          [0.4549, 0.4902, 0.5216, 0.5451, 0.5608, 0.5725, 0.5922, 0.6000,\n",
       "           0.6118, 0.6235, 0.6353, 0.6392, 0.6549, 0.6549, 0.3725, 0.5647,\n",
       "           0.6706, 0.6745, 0.6745, 0.6745, 0.6745, 0.6745, 0.6784, 0.6784,\n",
       "           0.6784, 0.6745, 0.6745, 0.6706],\n",
       "          [0.4588, 0.4941, 0.5255, 0.5490, 0.5686, 0.5843, 0.6000, 0.6118,\n",
       "           0.6196, 0.6314, 0.6392, 0.6431, 0.6863, 0.6118, 0.3412, 0.6039,\n",
       "           0.6745, 0.6784, 0.6784, 0.6784, 0.6784, 0.6784, 0.6824, 0.6824,\n",
       "           0.6824, 0.6784, 0.6745, 0.6745],\n",
       "          [0.4667, 0.5020, 0.5333, 0.5569, 0.5725, 0.5882, 0.6000, 0.6118,\n",
       "           0.6235, 0.6392, 0.6471, 0.6431, 0.7216, 0.5804, 0.3490, 0.6431,\n",
       "           0.6745, 0.6824, 0.6824, 0.6824, 0.6824, 0.6863, 0.6863, 0.6824,\n",
       "           0.6863, 0.6824, 0.6784, 0.6784],\n",
       "          [0.4784, 0.5098, 0.5412, 0.5608, 0.5765, 0.5882, 0.6039, 0.6196,\n",
       "           0.6353, 0.6471, 0.6510, 0.6745, 0.7098, 0.5020, 0.3686, 0.6667,\n",
       "           0.6784, 0.6863, 0.6824, 0.6863, 0.6902, 0.6941, 0.6941, 0.6941,\n",
       "           0.6941, 0.6863, 0.6863, 0.6824],\n",
       "          [0.4784, 0.5176, 0.5451, 0.5686, 0.5843, 0.5961, 0.6118, 0.6275,\n",
       "           0.6392, 0.6471, 0.6510, 0.7098, 0.6745, 0.4039, 0.4431, 0.6863,\n",
       "           0.6902, 0.6980, 0.6980, 0.7020, 0.7020, 0.7020, 0.7020, 0.6980,\n",
       "           0.7020, 0.6941, 0.6863, 0.6824],\n",
       "          [0.4902, 0.5255, 0.5529, 0.5765, 0.5882, 0.6000, 0.6157, 0.6314,\n",
       "           0.6431, 0.6549, 0.6588, 0.7216, 0.7020, 0.4549, 0.4941, 0.6471,\n",
       "           0.6902, 0.7020, 0.7059, 0.7059, 0.7098, 0.7059, 0.7059, 0.7059,\n",
       "           0.7020, 0.6980, 0.6941, 0.6902],\n",
       "          [0.5020, 0.5294, 0.5569, 0.5804, 0.5961, 0.6039, 0.6196, 0.6353,\n",
       "           0.6471, 0.6588, 0.6667, 0.7333, 0.7059, 0.6118, 0.6314, 0.4863,\n",
       "           0.5608, 0.7020, 0.6980, 0.6980, 0.7098, 0.7137, 0.7098, 0.7059,\n",
       "           0.7098, 0.7059, 0.7020, 0.7020],\n",
       "          [0.5059, 0.5333, 0.5647, 0.5882, 0.6000, 0.6078, 0.6235, 0.6392,\n",
       "           0.6510, 0.6627, 0.6745, 0.7333, 0.7216, 0.6000, 0.4000, 0.4588,\n",
       "           0.4314, 0.6863, 0.6627, 0.6039, 0.7137, 0.7176, 0.7176, 0.7137,\n",
       "           0.7137, 0.7098, 0.7098, 0.7020],\n",
       "          [0.5137, 0.5412, 0.5686, 0.5882, 0.6078, 0.6157, 0.6314, 0.6471,\n",
       "           0.6588, 0.6824, 0.7451, 0.7412, 0.6863, 0.5725, 0.3686, 0.3804,\n",
       "           0.4431, 0.5922, 0.6196, 0.5059, 0.7216, 0.7216, 0.7216, 0.7216,\n",
       "           0.7176, 0.7176, 0.7137, 0.7059],\n",
       "          [0.5137, 0.5451, 0.5725, 0.5922, 0.6078, 0.6235, 0.6392, 0.6549,\n",
       "           0.6863, 0.7137, 0.7020, 0.6706, 0.6235, 0.4471, 0.4000, 0.3490,\n",
       "           0.4745, 0.5333, 0.5333, 0.3765, 0.6745, 0.7294, 0.7294, 0.7255,\n",
       "           0.7255, 0.7216, 0.7137, 0.7098],\n",
       "          [0.5137, 0.5490, 0.5765, 0.6039, 0.6157, 0.6275, 0.6431, 0.7020,\n",
       "           0.7294, 0.7490, 0.7333, 0.7059, 0.6157, 0.3922, 0.3451, 0.3294,\n",
       "           0.4235, 0.4353, 0.4941, 0.3529, 0.4706, 0.7294, 0.7333, 0.7333,\n",
       "           0.7294, 0.7255, 0.7216, 0.7137],\n",
       "          [0.5216, 0.5529, 0.5843, 0.6078, 0.6196, 0.6275, 0.6824, 0.7882,\n",
       "           0.7412, 0.6471, 0.5922, 0.5608, 0.5725, 0.4706, 0.3412, 0.3059,\n",
       "           0.3412, 0.2980, 0.4235, 0.3843, 0.3765, 0.7098, 0.7373, 0.7333,\n",
       "           0.7294, 0.7294, 0.7255, 0.7176],\n",
       "          [0.5216, 0.5529, 0.5882, 0.6118, 0.6275, 0.6314, 0.7020, 0.7725,\n",
       "           0.6824, 0.5294, 0.3882, 0.2824, 0.3725, 0.5255, 0.3804, 0.2824,\n",
       "           0.2902, 0.2667, 0.4549, 0.4118, 0.4235, 0.7333, 0.7412, 0.7333,\n",
       "           0.7333, 0.7294, 0.7294, 0.7255],\n",
       "          [0.5255, 0.5608, 0.5922, 0.6118, 0.6314, 0.6392, 0.7020, 0.7608,\n",
       "           0.6118, 0.4314, 0.2902, 0.1647, 0.2039, 0.5451, 0.3686, 0.2627,\n",
       "           0.2941, 0.2941, 0.4627, 0.4157, 0.5059, 0.7412, 0.7490, 0.7451,\n",
       "           0.7373, 0.7373, 0.7333, 0.7294],\n",
       "          [0.5294, 0.5647, 0.5961, 0.6196, 0.6392, 0.6392, 0.6941, 0.7569,\n",
       "           0.6314, 0.4784, 0.3294, 0.1686, 0.2784, 0.5255, 0.3176, 0.2235,\n",
       "           0.2784, 0.3451, 0.4392, 0.3843, 0.6157, 0.7569, 0.7569, 0.7529,\n",
       "           0.7451, 0.7451, 0.7412, 0.7373],\n",
       "          [0.5333, 0.5647, 0.5961, 0.6196, 0.6353, 0.6392, 0.6902, 0.7529,\n",
       "           0.6431, 0.5020, 0.3843, 0.2431, 0.2353, 0.3922, 0.2784, 0.2980,\n",
       "           0.3765, 0.3961, 0.4118, 0.3725, 0.6824, 0.7647, 0.7608, 0.7608,\n",
       "           0.7608, 0.7569, 0.7490, 0.7451],\n",
       "          [0.5373, 0.5686, 0.5961, 0.6235, 0.6431, 0.6471, 0.6980, 0.7490,\n",
       "           0.6431, 0.5294, 0.4431, 0.3216, 0.2314, 0.3412, 0.3843, 0.4353,\n",
       "           0.4706, 0.4235, 0.3804, 0.4235, 0.7451, 0.7686, 0.7647, 0.7647,\n",
       "           0.7608, 0.7569, 0.7569, 0.7529],\n",
       "          [0.5451, 0.5725, 0.6039, 0.6275, 0.6431, 0.6471, 0.6863, 0.7294,\n",
       "           0.6392, 0.5451, 0.4392, 0.3333, 0.2627, 0.4000, 0.4941, 0.5216,\n",
       "           0.4941, 0.4118, 0.4078, 0.6902, 0.7725, 0.7765, 0.7725, 0.7686,\n",
       "           0.7647, 0.7647, 0.7608, 0.7569],\n",
       "          [0.5412, 0.5765, 0.6078, 0.6314, 0.6471, 0.6549, 0.6745, 0.7294,\n",
       "           0.6392, 0.5373, 0.4196, 0.3412, 0.2980, 0.4157, 0.4784, 0.4902,\n",
       "           0.4588, 0.3765, 0.6118, 0.7804, 0.7804, 0.7843, 0.7765, 0.7686,\n",
       "           0.7686, 0.7647, 0.7647, 0.7608],\n",
       "          [0.5451, 0.5804, 0.6118, 0.6392, 0.6510, 0.6588, 0.6745, 0.7059,\n",
       "           0.6196, 0.5137, 0.4235, 0.3882, 0.3373, 0.4235, 0.4627, 0.4549,\n",
       "           0.4039, 0.4196, 0.7490, 0.7922, 0.7882, 0.7843, 0.7843, 0.7843,\n",
       "           0.7804, 0.7725, 0.7765, 0.7686],\n",
       "          [0.5490, 0.5843, 0.6157, 0.6431, 0.6588, 0.6549, 0.6941, 0.6980,\n",
       "           0.6078, 0.5137, 0.4627, 0.4118, 0.3412, 0.3922, 0.4157, 0.3922,\n",
       "           0.3765, 0.6431, 0.7922, 0.7922, 0.7922, 0.7922, 0.7922, 0.7882,\n",
       "           0.7843, 0.7804, 0.7804, 0.7765],\n",
       "          [0.5490, 0.5882, 0.6157, 0.6471, 0.6549, 0.6667, 0.7098, 0.6863,\n",
       "           0.5961, 0.5098, 0.4510, 0.3843, 0.3216, 0.3333, 0.3529, 0.3882,\n",
       "           0.6471, 0.7922, 0.7961, 0.8000, 0.7961, 0.7961, 0.7922, 0.7922,\n",
       "           0.7882, 0.7882, 0.7843, 0.7843],\n",
       "          [0.5569, 0.5882, 0.6235, 0.6471, 0.6667, 0.7490, 0.6784, 0.6157,\n",
       "           0.5647, 0.4667, 0.3804, 0.3294, 0.3098, 0.3098, 0.3569, 0.6745,\n",
       "           0.7922, 0.7961, 0.7961, 0.8039, 0.8000, 0.8000, 0.8000, 0.7961,\n",
       "           0.7922, 0.7922, 0.7882, 0.7843],\n",
       "          [0.5569, 0.5922, 0.6275, 0.6471, 0.7373, 0.7451, 0.7333, 0.5882,\n",
       "           0.4667, 0.4275, 0.3333, 0.3098, 0.3098, 0.3059, 0.5373, 0.7961,\n",
       "           0.8039, 0.8078, 0.8078, 0.8118, 0.8118, 0.8078, 0.8078, 0.8000,\n",
       "           0.8039, 0.8000, 0.7961, 0.7922],\n",
       "          [0.5569, 0.5922, 0.6275, 0.6745, 0.7686, 0.7373, 0.7373, 0.7451,\n",
       "           0.5294, 0.3765, 0.3373, 0.3020, 0.3020, 0.3098, 0.6902, 0.8039,\n",
       "           0.8118, 0.8118, 0.8118, 0.8118, 0.8118, 0.8118, 0.8078, 0.8078,\n",
       "           0.8078, 0.8000, 0.7961, 0.7922]]]),\n",
       " tensor(3))"
      ]
     },
     "execution_count": 11,
     "metadata": {},
     "output_type": "execute_result"
    }
   ],
   "source": [
    "# Example\n",
    "image, label = train_data_transformed[0]\n",
    "image, label"
   ]
  },
  {
   "cell_type": "code",
   "execution_count": 12,
   "metadata": {},
   "outputs": [
    {
     "name": "stdout",
     "output_type": "stream",
     "text": [
      "Length of train_dataloader: 858, with 32 batch size.\n",
      "Length of train_dataloader: 225, with 32 batch size.\n"
     ]
    }
   ],
   "source": [
    "from torch.utils.data import DataLoader\n",
    "\n",
    "batch_size = 32\n",
    "\n",
    "train_dataloader = DataLoader(\n",
    "    train_data_transformed, \n",
    "    batch_size=batch_size,\n",
    "    shuffle=True\n",
    ")\n",
    "\n",
    "test_dataloader = DataLoader(\n",
    "    test_data_transformed,\n",
    "    batch_size=batch_size,\n",
    "    shuffle=False\n",
    ")\n",
    "\n",
    "print(f\"Length of train_dataloader: {len(train_dataloader)}, with {batch_size} batch size.\")\n",
    "print(f\"Length of train_dataloader: {len(test_dataloader)}, with {batch_size} batch size.\")"
   ]
  },
  {
   "cell_type": "code",
   "execution_count": 14,
   "metadata": {},
   "outputs": [
    {
     "data": {
      "text/plain": [
       "'cpu'"
      ]
     },
     "execution_count": 14,
     "metadata": {},
     "output_type": "execute_result"
    }
   ],
   "source": [
    "device = 'cuda' if torch.cuda.is_available() else 'cpu'\n",
    "device"
   ]
  },
  {
   "cell_type": "code",
   "execution_count": 15,
   "metadata": {},
   "outputs": [],
   "source": [
    "from torch import nn\n",
    "\n",
    "class SignLanguageClassifierV0(nn.Module):\n",
    "    def __init__(self, num_classes=24):\n",
    "        super().__init__()\n",
    "        self.layer_stack = nn.Sequential(\n",
    "            nn.Conv2d(in_channels=1, out_channels=12, kernel_size=5),\n",
    "            nn.ReLU(),\n",
    "            nn.MaxPool2d(2, 2),\n",
    "            nn.Conv2d(in_channels=12, out_channels=24, kernel_size=5),\n",
    "            nn.ReLU(),\n",
    "            nn.MaxPool2d(2, 2),\n",
    "            nn.Flatten(),\n",
    "            nn.Linear(in_features=384, out_features=120),\n",
    "            nn.ReLU(),\n",
    "            nn.Linear(120, 84),\n",
    "            nn.ReLU(),\n",
    "            nn.Linear(84, num_classes),\n",
    "            nn.ReLU()\n",
    "        )\n",
    "        \n",
    "    def forward(self, x: torch.Tensor):\n",
    "        return self.layer_stack(x)\n",
    "\n",
    "model = SignLanguageClassifierV0(num_classes=len(class_names))\n",
    "loss_fn = nn.CrossEntropyLoss()\n",
    "optimizer = torch.optim.SGD(model.parameters(), lr=0.009, momentum=0.9)"
   ]
  },
  {
   "cell_type": "code",
   "execution_count": 16,
   "metadata": {},
   "outputs": [],
   "source": [
    "from torch.optim.lr_scheduler import ReduceLROnPlateau\n",
    "scheduler = ReduceLROnPlateau(\n",
    "    optimizer, \n",
    "    mode='min', \n",
    "    patience=3,\n",
    "    factor=0.5,\n",
    "    verbose=True\n",
    ")"
   ]
  },
  {
   "cell_type": "code",
   "execution_count": 17,
   "metadata": {},
   "outputs": [
    {
     "name": "stdout",
     "output_type": "stream",
     "text": [
      "Epoch 1/32, Training Loss: 2.7742, Validation Loss: 1.5854\n",
      "Epoch 2/32, Training Loss: 0.4895, Validation Loss: 0.4631\n",
      "Epoch 3/32, Training Loss: 0.0345, Validation Loss: 0.4251\n",
      "Epoch 4/32, Training Loss: 0.0007, Validation Loss: 0.4668\n",
      "Epoch 5/32, Training Loss: 0.0004, Validation Loss: 0.4912\n",
      "Epoch 6/32, Training Loss: 0.0003, Validation Loss: 0.5033\n",
      "Epoch 7/32, Training Loss: 0.0002, Validation Loss: 0.5198\n",
      "Epoch 8/32, Training Loss: 0.0002, Validation Loss: 0.5237\n",
      "Epoch 9/32, Training Loss: 0.0001, Validation Loss: 0.5251\n",
      "Epoch 10/32, Training Loss: 0.0001, Validation Loss: 0.5334\n",
      "Epoch 11/32, Training Loss: 0.0001, Validation Loss: 0.5337\n",
      "Epoch 12/32, Training Loss: 0.0001, Validation Loss: 0.5373\n",
      "Epoch 13/32, Training Loss: 0.0001, Validation Loss: 0.5395\n",
      "Epoch 14/32, Training Loss: 0.0001, Validation Loss: 0.5409\n",
      "Epoch 15/32, Training Loss: 0.0001, Validation Loss: 0.5430\n",
      "Epoch 16/32, Training Loss: 0.0001, Validation Loss: 0.5438\n",
      "Epoch 17/32, Training Loss: 0.0001, Validation Loss: 0.5448\n",
      "Epoch 18/32, Training Loss: 0.0001, Validation Loss: 0.5459\n",
      "Epoch 19/32, Training Loss: 0.0001, Validation Loss: 0.5466\n",
      "Epoch 20/32, Training Loss: 0.0001, Validation Loss: 0.5472\n",
      "Epoch 21/32, Training Loss: 0.0001, Validation Loss: 0.5476\n",
      "Epoch 22/32, Training Loss: 0.0001, Validation Loss: 0.5482\n",
      "Epoch 23/32, Training Loss: 0.0001, Validation Loss: 0.5485\n",
      "Epoch 24/32, Training Loss: 0.0001, Validation Loss: 0.5488\n",
      "Epoch 25/32, Training Loss: 0.0001, Validation Loss: 0.5490\n",
      "Epoch 26/32, Training Loss: 0.0001, Validation Loss: 0.5492\n",
      "Epoch 27/32, Training Loss: 0.0001, Validation Loss: 0.5493\n",
      "Epoch 28/32, Training Loss: 0.0001, Validation Loss: 0.5494\n",
      "Epoch 29/32, Training Loss: 0.0001, Validation Loss: 0.5496\n",
      "Epoch 30/32, Training Loss: 0.0001, Validation Loss: 0.5497\n",
      "Epoch 31/32, Training Loss: 0.0001, Validation Loss: 0.5498\n",
      "Epoch 32/32, Training Loss: 0.0001, Validation Loss: 0.5498\n"
     ]
    }
   ],
   "source": [
    "best_test_loss = float('inf')\n",
    "early_stopping_patience = 5\n",
    "patience_counter = 0\n",
    "num_epochs = 32\n",
    "\n",
    "for epoch in range(num_epochs):\n",
    "    train_loss = 0.0\n",
    "\n",
    "    for i, (inputs, labels) in enumerate(train_dataloader):\n",
    "\n",
    "        # Reset gradient\n",
    "        optimizer.zero_grad()\n",
    "\n",
    "        output = model(inputs)\n",
    "\n",
    "        loss = loss_fn(output, labels)\n",
    "        \n",
    "        # Gradient computation\n",
    "        loss.backward()\n",
    "\n",
    "        optimizer.step()\n",
    "\n",
    "        train_loss += loss.item()\n",
    "\n",
    "    train_loss /= len(train_dataloader)\n",
    "\n",
    "    ### Testing\n",
    "    model.eval()\n",
    "    test_loss = 0.0\n",
    "\n",
    "    with torch.inference_mode():\n",
    "        for data, target in test_dataloader:\n",
    "            outputs = model(data)\n",
    "            loss = loss_fn(outputs, target)\n",
    "            test_loss += loss.item()\n",
    "    \n",
    "    test_loss /= len(test_dataloader)\n",
    "\n",
    "    scheduler.step(test_loss)\n",
    "\n",
    "    print(f'Epoch {epoch+1}/{num_epochs}, Training Loss: {train_loss:.4f}, Validation Loss: {test_loss:.4f}')\n",
    "\n",
    "    # Implement early stopping\n",
    "    if test_loss < best_test_loss:\n",
    "        best_val_loss = test_loss\n",
    "        patience_counter = 0 # Reset counter if we see improvement\n",
    "    else:\n",
    "        patience_counter += 1\n",
    "\n",
    "        if patience_counter >= early_stopping_patience:\n",
    "            print(\"Early stopping triggered\")\n",
    "            break"
   ]
  },
  {
   "cell_type": "code",
   "execution_count": 18,
   "metadata": {},
   "outputs": [],
   "source": [
    "torch.save(model, os.path.join('..', 'models', 'full_model.pth'))\n",
    "torch.save(model.state_dict(), os.path.join('..', 'models', 'model_weights.pth'))"
   ]
  },
  {
   "cell_type": "code",
   "execution_count": 27,
   "metadata": {},
   "outputs": [
    {
     "name": "stdout",
     "output_type": "stream",
     "text": [
      "Accuracy: 90.3095%\n"
     ]
    }
   ],
   "source": [
    "all_preds = []\n",
    "all_labels = []\n",
    "\n",
    "with torch.inference_mode(): \n",
    "    for data, labels in test_dataloader:\n",
    "        inputs = data\n",
    "        true_labels = labels\n",
    "        outputs = model(inputs)\n",
    "        _, predicted = torch.max(outputs, 1)\n",
    "        all_preds.extend(predicted)\n",
    "        all_labels.extend(true_labels)\n",
    "\n",
    "all_preds = torch.tensor(all_preds)\n",
    "all_labels = torch.tensor(all_labels)\n",
    "\n",
    "accuracy = calculate_accuracy(all_labels, all_preds) * 100\n",
    "print(f'Accuracy: {accuracy:.4f}%')"
   ]
  },
  {
   "cell_type": "code",
   "execution_count": 20,
   "metadata": {},
   "outputs": [],
   "source": [
    "import sys\n",
    "\n",
    "if '..\\\\src' not in sys.path:\n",
    "    sys.path.append(os.path.join('..', 'src'))\n",
    "\n",
    "from helper import eval_model"
   ]
  },
  {
   "cell_type": "code",
   "execution_count": 21,
   "metadata": {},
   "outputs": [],
   "source": [
    "# if '..\\\\src' in sys.path:\n",
    "#     sys.path.pop()\n",
    "\n",
    "# sys.path"
   ]
  },
  {
   "cell_type": "code",
   "execution_count": 22,
   "metadata": {},
   "outputs": [],
   "source": [
    "# Calculate accuracy (a classification metric)\n",
    "def accuracy_fn(y_true, y_pred):\n",
    "    correct = torch.eq(y_true, y_pred).sum().item() # torch.eq() calculates where two tensors are equal\n",
    "    acc = (correct / len(y_pred)) * 100 \n",
    "    return acc"
   ]
  },
  {
   "cell_type": "code",
   "execution_count": 23,
   "metadata": {},
   "outputs": [
    {
     "data": {
      "text/plain": [
       "{'model_name': 'SignLanguageClassifierV0',\n",
       " 'model_loss': 0.5498449206352234,\n",
       " 'model_acc': 90.25}"
      ]
     },
     "execution_count": 23,
     "metadata": {},
     "output_type": "execute_result"
    }
   ],
   "source": [
    "eval_model(model=model, data_loader=test_dataloader, loss_fn=loss_fn, accuracy_fn=accuracy_fn)"
   ]
  },
  {
   "cell_type": "code",
   "execution_count": 24,
   "metadata": {},
   "outputs": [],
   "source": [
    "loss, acc = 0, 0\n",
    "model.eval()\n",
    "with torch.inference_mode():\n",
    "    for X, y in test_dataloader:\n",
    "        # Make predictions with the model\n",
    "        y_pred = model(X)\n",
    "        \n",
    "        # Accumulate the loss and accuracy values per batch\n",
    "        loss += loss_fn(y_pred, y)\n",
    "        acc += accuracy_fn(y_true=y, \n",
    "                            y_pred=y_pred.argmax(dim=1)) # For accuracy, need the prediction labels (logits -> pred_prob -> pred_labels)\n",
    "    \n",
    "    # Scale loss and acc to find the average loss/acc per batch\n",
    "    loss /= len(test_dataloader)\n",
    "    acc /= len(test_dataloader)"
   ]
  },
  {
   "cell_type": "code",
   "execution_count": 25,
   "metadata": {},
   "outputs": [
    {
     "data": {
      "text/plain": [
       "tensor([17,  2,  4,  2])"
      ]
     },
     "execution_count": 25,
     "metadata": {},
     "output_type": "execute_result"
    }
   ],
   "source": [
    "y_pred.argmax(dim=1)"
   ]
  },
  {
   "cell_type": "code",
   "execution_count": 26,
   "metadata": {},
   "outputs": [
    {
     "data": {
      "text/plain": [
       "tensor([11,  2,  4,  2])"
      ]
     },
     "execution_count": 26,
     "metadata": {},
     "output_type": "execute_result"
    }
   ],
   "source": [
    "y"
   ]
  }
 ],
 "metadata": {
  "kernelspec": {
   "display_name": "venv",
   "language": "python",
   "name": "python3"
  },
  "language_info": {
   "codemirror_mode": {
    "name": "ipython",
    "version": 3
   },
   "file_extension": ".py",
   "mimetype": "text/x-python",
   "name": "python",
   "nbconvert_exporter": "python",
   "pygments_lexer": "ipython3",
   "version": "3.12.3"
  }
 },
 "nbformat": 4,
 "nbformat_minor": 2
}
